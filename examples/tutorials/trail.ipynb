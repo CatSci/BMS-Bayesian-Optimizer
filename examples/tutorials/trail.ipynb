{
 "cells": [
  {
   "cell_type": "code",
   "execution_count": 1,
   "metadata": {},
   "outputs": [],
   "source": [
    "from edbo.plus.optimizer_botorch import EDBOplus\n",
    "import pandas as pd"
   ]
  },
  {
   "cell_type": "code",
   "execution_count": 2,
   "metadata": {},
   "outputs": [],
   "source": [
    "reaction_components = {\n",
    "    \"Azodicarboxylates\": [\"DIAD\", \"DBAD\", \"DBnAD\", \"DCAD\", \"ADDP\", \"ADDM\"],\n",
    "    \"Phosphines\": [\"PPh3\", \"Ph2PPy\", \"DAP\", \"Tris-FPP\", \"TPTP\", \"PCy3\", \"TFP\"],\n",
    "    \"Temperatures\":  [5, 20, 35],\n",
    "    \"Phosphine Equiv\": [1.05, 1.2, 1.4],\n",
    "    \"Azadicarboxylate Equiv.\": [1.05, 1.2, 1.4],\n",
    "    \"N-Boc Pyrrolidine\": [0.95, 1.05, 1.2],\n",
    "    \"Solvents\": [\"2-MeTHF\", \"MeCN\", \"PhMe\", \"EtOAc\"]\n",
    "}\n",
    "\n",
    "\n",
    "# reaction_components = {\n",
    "#     'solvent': ['THF', 'Toluene', 'DMSO'],\n",
    "#     'T': [-10, 0, 10, 25],\n",
    "#     'concentration': [0.1, 0.2, 1.0]\n",
    "# }\n",
    "\n",
    "# reaction_components = {\n",
    "#     'Ligand' : ['L1', 'L2', 'L3', 'L4', 'L5', 'L6'],\n",
    "#     'Base' : ['Na2CO3', 'K3PO4', 'Cs2CO3', 'NaOtBu'],\n",
    "#     'solvent': ['THF', 'Toluene', 'dioxane', 'DME'],\n",
    "#     'T': [60, 80, 100],\n",
    "# }"
   ]
  },
  {
   "cell_type": "code",
   "execution_count": 3,
   "metadata": {},
   "outputs": [
    {
     "data": {
      "text/plain": [
       "{'Azodicarboxylates': ['DIAD', 'DBAD', 'DBnAD', 'DCAD', 'ADDP', 'ADDM'],\n",
       " 'Phosphines': ['PPh3', 'Ph2PPy', 'DAP', 'Tris-FPP', 'TPTP', 'PCy3', 'TFP'],\n",
       " 'Temperatures': [5, 20, 35],\n",
       " 'Phosphine Equiv': [1.05, 1.2, 1.4],\n",
       " 'Azadicarboxylate Equiv.': [1.05, 1.2, 1.4],\n",
       " 'N-Boc Pyrrolidine': [0.95, 1.05, 1.2],\n",
       " 'Solvents': ['2-MeTHF', 'MeCN', 'PhMe', 'EtOAc']}"
      ]
     },
     "execution_count": 3,
     "metadata": {},
     "output_type": "execute_result"
    }
   ],
   "source": [
    "reaction_components"
   ]
  },
  {
   "cell_type": "code",
   "execution_count": 4,
   "metadata": {},
   "outputs": [
    {
     "name": "stdout",
     "output_type": "stream",
     "text": [
      "Generating reaction scope...\n"
     ]
    },
    {
     "data": {
      "text/html": [
       "<div>\n",
       "<style scoped>\n",
       "    .dataframe tbody tr th:only-of-type {\n",
       "        vertical-align: middle;\n",
       "    }\n",
       "\n",
       "    .dataframe tbody tr th {\n",
       "        vertical-align: top;\n",
       "    }\n",
       "\n",
       "    .dataframe thead th {\n",
       "        text-align: right;\n",
       "    }\n",
       "</style>\n",
       "<table border=\"1\" class=\"dataframe\">\n",
       "  <thead>\n",
       "    <tr style=\"text-align: right;\">\n",
       "      <th></th>\n",
       "      <th>Azodicarboxylates</th>\n",
       "      <th>Phosphines</th>\n",
       "      <th>Temperatures</th>\n",
       "      <th>Phosphine Equiv</th>\n",
       "      <th>Azadicarboxylate Equiv.</th>\n",
       "      <th>N-Boc Pyrrolidine</th>\n",
       "      <th>Solvents</th>\n",
       "    </tr>\n",
       "  </thead>\n",
       "  <tbody>\n",
       "    <tr>\n",
       "      <th>0</th>\n",
       "      <td>DIAD</td>\n",
       "      <td>PPh3</td>\n",
       "      <td>5</td>\n",
       "      <td>1.05</td>\n",
       "      <td>1.05</td>\n",
       "      <td>0.95</td>\n",
       "      <td>2-MeTHF</td>\n",
       "    </tr>\n",
       "    <tr>\n",
       "      <th>1</th>\n",
       "      <td>DIAD</td>\n",
       "      <td>PPh3</td>\n",
       "      <td>5</td>\n",
       "      <td>1.05</td>\n",
       "      <td>1.05</td>\n",
       "      <td>0.95</td>\n",
       "      <td>MeCN</td>\n",
       "    </tr>\n",
       "    <tr>\n",
       "      <th>2</th>\n",
       "      <td>DIAD</td>\n",
       "      <td>PPh3</td>\n",
       "      <td>5</td>\n",
       "      <td>1.05</td>\n",
       "      <td>1.05</td>\n",
       "      <td>0.95</td>\n",
       "      <td>PhMe</td>\n",
       "    </tr>\n",
       "    <tr>\n",
       "      <th>3</th>\n",
       "      <td>DIAD</td>\n",
       "      <td>PPh3</td>\n",
       "      <td>5</td>\n",
       "      <td>1.05</td>\n",
       "      <td>1.05</td>\n",
       "      <td>0.95</td>\n",
       "      <td>EtOAc</td>\n",
       "    </tr>\n",
       "    <tr>\n",
       "      <th>4</th>\n",
       "      <td>DIAD</td>\n",
       "      <td>PPh3</td>\n",
       "      <td>5</td>\n",
       "      <td>1.05</td>\n",
       "      <td>1.05</td>\n",
       "      <td>1.05</td>\n",
       "      <td>2-MeTHF</td>\n",
       "    </tr>\n",
       "    <tr>\n",
       "      <th>...</th>\n",
       "      <td>...</td>\n",
       "      <td>...</td>\n",
       "      <td>...</td>\n",
       "      <td>...</td>\n",
       "      <td>...</td>\n",
       "      <td>...</td>\n",
       "      <td>...</td>\n",
       "    </tr>\n",
       "    <tr>\n",
       "      <th>13603</th>\n",
       "      <td>ADDM</td>\n",
       "      <td>TFP</td>\n",
       "      <td>35</td>\n",
       "      <td>1.40</td>\n",
       "      <td>1.40</td>\n",
       "      <td>1.05</td>\n",
       "      <td>EtOAc</td>\n",
       "    </tr>\n",
       "    <tr>\n",
       "      <th>13604</th>\n",
       "      <td>ADDM</td>\n",
       "      <td>TFP</td>\n",
       "      <td>35</td>\n",
       "      <td>1.40</td>\n",
       "      <td>1.40</td>\n",
       "      <td>1.20</td>\n",
       "      <td>2-MeTHF</td>\n",
       "    </tr>\n",
       "    <tr>\n",
       "      <th>13605</th>\n",
       "      <td>ADDM</td>\n",
       "      <td>TFP</td>\n",
       "      <td>35</td>\n",
       "      <td>1.40</td>\n",
       "      <td>1.40</td>\n",
       "      <td>1.20</td>\n",
       "      <td>MeCN</td>\n",
       "    </tr>\n",
       "    <tr>\n",
       "      <th>13606</th>\n",
       "      <td>ADDM</td>\n",
       "      <td>TFP</td>\n",
       "      <td>35</td>\n",
       "      <td>1.40</td>\n",
       "      <td>1.40</td>\n",
       "      <td>1.20</td>\n",
       "      <td>PhMe</td>\n",
       "    </tr>\n",
       "    <tr>\n",
       "      <th>13607</th>\n",
       "      <td>ADDM</td>\n",
       "      <td>TFP</td>\n",
       "      <td>35</td>\n",
       "      <td>1.40</td>\n",
       "      <td>1.40</td>\n",
       "      <td>1.20</td>\n",
       "      <td>EtOAc</td>\n",
       "    </tr>\n",
       "  </tbody>\n",
       "</table>\n",
       "<p>13608 rows × 7 columns</p>\n",
       "</div>"
      ],
      "text/plain": [
       "      Azodicarboxylates Phosphines  Temperatures  Phosphine Equiv  \\\n",
       "0                  DIAD       PPh3             5             1.05   \n",
       "1                  DIAD       PPh3             5             1.05   \n",
       "2                  DIAD       PPh3             5             1.05   \n",
       "3                  DIAD       PPh3             5             1.05   \n",
       "4                  DIAD       PPh3             5             1.05   \n",
       "...                 ...        ...           ...              ...   \n",
       "13603              ADDM        TFP            35             1.40   \n",
       "13604              ADDM        TFP            35             1.40   \n",
       "13605              ADDM        TFP            35             1.40   \n",
       "13606              ADDM        TFP            35             1.40   \n",
       "13607              ADDM        TFP            35             1.40   \n",
       "\n",
       "       Azadicarboxylate Equiv.  N-Boc Pyrrolidine Solvents  \n",
       "0                         1.05               0.95  2-MeTHF  \n",
       "1                         1.05               0.95     MeCN  \n",
       "2                         1.05               0.95     PhMe  \n",
       "3                         1.05               0.95    EtOAc  \n",
       "4                         1.05               1.05  2-MeTHF  \n",
       "...                        ...                ...      ...  \n",
       "13603                     1.40               1.05    EtOAc  \n",
       "13604                     1.40               1.20  2-MeTHF  \n",
       "13605                     1.40               1.20     MeCN  \n",
       "13606                     1.40               1.20     PhMe  \n",
       "13607                     1.40               1.20    EtOAc  \n",
       "\n",
       "[13608 rows x 7 columns]"
      ]
     },
     "execution_count": 4,
     "metadata": {},
     "output_type": "execute_result"
    }
   ],
   "source": [
    "scope_df = EDBOplus().generate_reaction_scope(\n",
    "    components=reaction_components, \n",
    "    filename='my_optimization.csv',\n",
    "    check_overwrite=False\n",
    ")\n",
    "\n",
    "scope_df"
   ]
  },
  {
   "cell_type": "code",
   "execution_count": 5,
   "metadata": {},
   "outputs": [],
   "source": [
    "scope_df.to_csv(\"scope.csv\", index=False, mode='w', header=list(reaction_components.keys()))"
   ]
  },
  {
   "cell_type": "code",
   "execution_count": 6,
   "metadata": {},
   "outputs": [
    {
     "data": {
      "text/html": [
       "<div>\n",
       "<style scoped>\n",
       "    .dataframe tbody tr th:only-of-type {\n",
       "        vertical-align: middle;\n",
       "    }\n",
       "\n",
       "    .dataframe tbody tr th {\n",
       "        vertical-align: top;\n",
       "    }\n",
       "\n",
       "    .dataframe thead th {\n",
       "        text-align: right;\n",
       "    }\n",
       "</style>\n",
       "<table border=\"1\" class=\"dataframe\">\n",
       "  <thead>\n",
       "    <tr style=\"text-align: right;\">\n",
       "      <th></th>\n",
       "      <th>Azodicarboxylates</th>\n",
       "      <th>Phosphines</th>\n",
       "      <th>Temperatures</th>\n",
       "      <th>Phosphine Equiv</th>\n",
       "      <th>Azadicarboxylate Equiv.</th>\n",
       "      <th>N-Boc Pyrrolidine</th>\n",
       "      <th>Solvents</th>\n",
       "    </tr>\n",
       "  </thead>\n",
       "  <tbody>\n",
       "    <tr>\n",
       "      <th>0</th>\n",
       "      <td>DIAD</td>\n",
       "      <td>PPh3</td>\n",
       "      <td>5</td>\n",
       "      <td>1.05</td>\n",
       "      <td>1.05</td>\n",
       "      <td>0.95</td>\n",
       "      <td>2-MeTHF</td>\n",
       "    </tr>\n",
       "    <tr>\n",
       "      <th>1</th>\n",
       "      <td>DIAD</td>\n",
       "      <td>PPh3</td>\n",
       "      <td>5</td>\n",
       "      <td>1.05</td>\n",
       "      <td>1.05</td>\n",
       "      <td>0.95</td>\n",
       "      <td>MeCN</td>\n",
       "    </tr>\n",
       "    <tr>\n",
       "      <th>2</th>\n",
       "      <td>DIAD</td>\n",
       "      <td>PPh3</td>\n",
       "      <td>5</td>\n",
       "      <td>1.05</td>\n",
       "      <td>1.05</td>\n",
       "      <td>0.95</td>\n",
       "      <td>PhMe</td>\n",
       "    </tr>\n",
       "    <tr>\n",
       "      <th>3</th>\n",
       "      <td>DIAD</td>\n",
       "      <td>PPh3</td>\n",
       "      <td>5</td>\n",
       "      <td>1.05</td>\n",
       "      <td>1.05</td>\n",
       "      <td>0.95</td>\n",
       "      <td>EtOAc</td>\n",
       "    </tr>\n",
       "    <tr>\n",
       "      <th>4</th>\n",
       "      <td>DIAD</td>\n",
       "      <td>PPh3</td>\n",
       "      <td>5</td>\n",
       "      <td>1.05</td>\n",
       "      <td>1.05</td>\n",
       "      <td>1.05</td>\n",
       "      <td>2-MeTHF</td>\n",
       "    </tr>\n",
       "  </tbody>\n",
       "</table>\n",
       "</div>"
      ],
      "text/plain": [
       "  Azodicarboxylates Phosphines  Temperatures  Phosphine Equiv  \\\n",
       "0              DIAD       PPh3             5             1.05   \n",
       "1              DIAD       PPh3             5             1.05   \n",
       "2              DIAD       PPh3             5             1.05   \n",
       "3              DIAD       PPh3             5             1.05   \n",
       "4              DIAD       PPh3             5             1.05   \n",
       "\n",
       "   Azadicarboxylate Equiv.  N-Boc Pyrrolidine Solvents  \n",
       "0                     1.05               0.95  2-MeTHF  \n",
       "1                     1.05               0.95     MeCN  \n",
       "2                     1.05               0.95     PhMe  \n",
       "3                     1.05               0.95    EtOAc  \n",
       "4                     1.05               1.05  2-MeTHF  "
      ]
     },
     "execution_count": 6,
     "metadata": {},
     "output_type": "execute_result"
    }
   ],
   "source": [
    "scope_df.head()"
   ]
  },
  {
   "cell_type": "code",
   "execution_count": 7,
   "metadata": {},
   "outputs": [
    {
     "name": "stdout",
     "output_type": "stream",
     "text": [
      "The following columns are categorical and will be encoded using One-Hot-Encoding: ['Azodicarboxylates', 'Phosphines', 'Solvents']\n",
      "Sampling type:  selection \n",
      "\n",
      "ideas\n",
      "<idaes.surrogate.pysmo.sampling.CVTSampling object at 0x00000220F87BA550>\n",
      "\n",
      "Number of unique samples returned by sampling algorithm: 88\n",
      "Creating a priority list using random sampling: cvtsampling\n"
     ]
    },
    {
     "name": "stderr",
     "output_type": "stream",
     "text": [
      "c:\\Users\\atul.yadav\\Anaconda3\\envs\\edbo_env\\lib\\site-packages\\idaes\\surrogate\\pysmo\\sampling.py:172: UserWarning: The returned number of samples is less than the requested number due to repetitions during nearest neighbour selection.\n",
      "  warnings.warn(\n"
     ]
    }
   ],
   "source": [
    "recomendations = EDBOplus().run(\n",
    "    data_frame = scope_df,\n",
    "    filename='my_optimization.csv',  # Previously generated scope.\n",
    "    objectives=['yield', 'purity',],  # Objectives to be optimized.\n",
    "    objective_mode=['max', 'max'],  # Maximize yield and ee but minimize side_product.\n",
    "    batch=96,  # Number of experiments in parallel that we want to perform in this round.\n",
    "    columns_features='all', # features to be included in the model.\n",
    "    init_sampling_method='cvtsampling'  # initialization method.\n",
    ")\n",
    "\n",
    "# recomendations = EDBOplus().run(\n",
    "#     data_frame = scope_df,\n",
    "#     filename='my_optimization.csv',  # Previously generated scope.\n",
    "#     objectives=['yield'],  # Objectives to be optimized.\n",
    "#     objective_mode=['max'],  # Maximize yield and ee but minimize side_product.\n",
    "#     batch=4,  # Number of experiments in parallel that we want to perform in this round.\n",
    "#     columns_features='all', # features to be included in the model.\n",
    "#     init_sampling_method='cvtsampling'  # initialization method.\n",
    "# )"
   ]
  },
  {
   "cell_type": "code",
   "execution_count": 8,
   "metadata": {},
   "outputs": [],
   "source": [
    "# recomendations.reset_index(drop=True, inplace=True)"
   ]
  },
  {
   "cell_type": "code",
   "execution_count": null,
   "metadata": {},
   "outputs": [],
   "source": [
    "recomendations.to_csv('re1.csv', index = False)"
   ]
  },
  {
   "cell_type": "code",
   "execution_count": null,
   "metadata": {},
   "outputs": [],
   "source": [
    "recomendations.head(5)"
   ]
  },
  {
   "cell_type": "code",
   "execution_count": null,
   "metadata": {},
   "outputs": [],
   "source": [
    "re1 = pd.read_csv(\"./re1.csv\")\n",
    "re1.head()"
   ]
  },
  {
   "cell_type": "code",
   "execution_count": null,
   "metadata": {},
   "outputs": [],
   "source": [
    "re1.loc[0, 'yield'] = 20.5\n",
    "re1.loc[0, 'purity'] = 40\n",
    "\n",
    "\n",
    "re1.loc[1, 'yield'] = 40.5\n",
    "re1.loc[1, 'purity'] = 50\n",
    "\n",
    "\n",
    "re1.loc[2, 'yield'] = 60\n",
    "re1.loc[2, 'purity'] = 70\n",
    "\n",
    "re1.loc[0, 'yield'] = 20.5\n",
    "re1.loc[0, 'purity'] = 40\n",
    "\n",
    "\n",
    "re1.loc[1, 'yield'] = 40.5\n",
    "re1.loc[1, 'purity'] = 50"
   ]
  },
  {
   "cell_type": "code",
   "execution_count": null,
   "metadata": {},
   "outputs": [],
   "source": [
    "re1.head()"
   ]
  },
  {
   "cell_type": "code",
   "execution_count": null,
   "metadata": {},
   "outputs": [],
   "source": [
    "re1.to_csv('round0.csv', index=False)"
   ]
  },
  {
   "cell_type": "code",
   "execution_count": null,
   "metadata": {},
   "outputs": [],
   "source": [
    "round0 = pd.read_csv(\"./round0.csv\")\n",
    "round0.head()"
   ]
  },
  {
   "cell_type": "code",
   "execution_count": null,
   "metadata": {},
   "outputs": [],
   "source": [
    "recomendations2 = EDBOplus().run(\n",
    "    data_frame = round0,\n",
    "    filename='my_optimization.csv',  # Previously generated scope.\n",
    "    objectives=['yield', 'ee', 'side_product'],  # Objectives to be optimized.\n",
    "    objective_mode=['max', 'max', 'min'],  # Maximize yield and ee but minimize side_product.\n",
    "    batch=3,  # Number of experiments in parallel that we want to perform in this round.\n",
    "    columns_features='all', # features to be included in the model.\n",
    "    init_sampling_method='cvtsampling'  # initialization method.\n",
    ")"
   ]
  },
  {
   "cell_type": "code",
   "execution_count": null,
   "metadata": {},
   "outputs": [],
   "source": [
    "recomendations2.to_csv(\"re2.csv\", index = False)"
   ]
  },
  {
   "cell_type": "code",
   "execution_count": null,
   "metadata": {},
   "outputs": [],
   "source": []
  }
 ],
 "metadata": {
  "kernelspec": {
   "display_name": "edbo_env",
   "language": "python",
   "name": "python3"
  },
  "language_info": {
   "codemirror_mode": {
    "name": "ipython",
    "version": 3
   },
   "file_extension": ".py",
   "mimetype": "text/x-python",
   "name": "python",
   "nbconvert_exporter": "python",
   "pygments_lexer": "ipython3",
   "version": "3.8.18"
  }
 },
 "nbformat": 4,
 "nbformat_minor": 2
}
